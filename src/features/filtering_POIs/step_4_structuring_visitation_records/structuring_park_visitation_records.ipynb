{
  "nbformat": 4,
  "nbformat_minor": 0,
  "metadata": {
    "colab": {
      "name": "structuring_park_visitation_records.ipynb",
      "provenance": [],
      "collapsed_sections": [],
      "machine_shape": "hm",
      "include_colab_link": true
    },
    "kernelspec": {
      "name": "python3",
      "display_name": "Python 3"
    }
  },
  "cells": [
    {
      "cell_type": "markdown",
      "metadata": {
        "id": "view-in-github",
        "colab_type": "text"
      },
      "source": [
        "<a href=\"https://colab.research.google.com/github/cja5553/national_park_visitation_analysis_w_mobile_phone_data/blob/main/src/features/filtering_POIs/step_4_structuring_visitation_records/structuring_park_visitation_records.ipynb\" target=\"_parent\"><img src=\"https://colab.research.google.com/assets/colab-badge.svg\" alt=\"Open In Colab\"/></a>"
      ]
    },
    {
      "cell_type": "markdown",
      "metadata": {
        "id": "qQCEDKqHakU5"
      },
      "source": [
       
        "Import neccessary libraries"
      ]
    },
    {
      "cell_type": "code",
      "metadata": {
        "id": "qZzZqPyJR_Im"
      },
      "source": [
        "%matplotlib inline\n",
        "import numpy as np\n",
        "import pandas as pd\n",
        "from pandas import DataFrame\n",
        "import math\n",
        "import numpy\n",
        "from statistics import *\n",
        "from numpy import nan\n",
        "import json "
      ],
      "execution_count": null,
      "outputs": []
    },
    {
      "cell_type": "markdown",
      "metadata": {
        "id": "-CvQXn_xaov-"
      },
      "source": [
        "Mount google drive and read the csv file"
      ]
    },
    {
      "cell_type": "code",
      "metadata": {
        "colab": {
          "base_uri": "https://localhost:8080/"
        },
        "id": "l6cG5dP9SD9p",
        "outputId": "cc077e41-9c8a-41b0-e5f9-0b29643fc4e7"
      },
      "source": [
        "# Make suitable changes here. My .csv file is in :  My Drive/Colab Notebooks\n",
        "from google.colab import drive\n",
        "drive.mount(\"/content/drive/\")\n",
        "%cd 'national_park_visitation_analysis_w_mobile_phone_data/volume/data/interim/filtered_pois/covid_era_classification/aggragated_count.csv'\n",
        "!pwd #Prints the present working directory\n",
        "data = pd.read_csv('aggragated_count.csv')\n"
      ],
      "execution_count": null,
      "outputs": [
        {
          "output_type": "stream",
          "text": [
            "Mounted at /content/drive/\n",
            "/content/drive/My Drive/RTPM496/National Park Research/Park_visitation_national\n",
            "/content/drive/My Drive/RTPM496/National Park Research/Park_visitation_national\n"
          ],
          "name": "stdout"
        }
      ]
    },
    {
      "cell_type": "markdown",
      "metadata": {
        "id": "7YYWZlimasBA"
      },
      "source": [
        "drop columns with no vistitation records"
      ]
    },
    {
      "cell_type": "code",
      "metadata": {
        "id": "hwW5fMPJWMWF",
        "colab": {
          "base_uri": "https://localhost:8080/",
          "height": 469
        },
        "outputId": "00e1429a-1bf3-4c72-df94-ab1194b91283"
      },
      "source": [
        "data = data[data.visitor_daytime_cbgs != \"{}\"]\n",
        "data = data[data['visitor_daytime_cbgs'].notna()]\n",
        "data=data.drop([\"Unnamed: 0\"], axis=1)\n",
        "data.to_csv(\"aggragated_count.csv\")\n",
        "data.head()"
      ],
      "execution_count": null,
      "outputs": [
        {
          "output_type": "execute_result",
          "data": {
            "text/html": [
              "<div>\n",
              "<style scoped>\n",
              "    .dataframe tbody tr th:only-of-type {\n",
              "        vertical-align: middle;\n",
              "    }\n",
              "\n",
              "    .dataframe tbody tr th {\n",
              "        vertical-align: top;\n",
              "    }\n",
              "\n",
              "    .dataframe thead th {\n",
              "        text-align: right;\n",
              "    }\n",
              "</style>\n",
              "<table border=\"1\" class=\"dataframe\">\n",
              "  <thead>\n",
              "    <tr style=\"text-align: right;\">\n",
              "      <th></th>\n",
              "      <th>safegraph_place_id</th>\n",
              "      <th>visitor_daytime_cbgs</th>\n",
              "      <th>date_range_start</th>\n",
              "      <th>date_range_end</th>\n",
              "      <th>raw_visitor_counts</th>\n",
              "      <th>UNIT_NAME</th>\n",
              "      <th>PARKNAME</th>\n",
              "      <th>location_name</th>\n",
              "      <th>top_category</th>\n",
              "      <th>sub_category</th>\n",
              "      <th>latitude</th>\n",
              "      <th>longitude</th>\n",
              "      <th>parent_safegraph_place_id</th>\n",
              "      <th>covid_era</th>\n",
              "    </tr>\n",
              "  </thead>\n",
              "  <tbody>\n",
              "    <tr>\n",
              "      <th>0</th>\n",
              "      <td>sg:12aaf44341a94b9c9cc3aeea1a6320ef</td>\n",
              "      <td>{\"\"\"\"\"\"\"\"481130141311\"\"\"\"\"\"\"\":5,\"\"\"\"\"\"\"\"120860...</td>\n",
              "      <td>2020-03-01</td>\n",
              "      <td>2020-04-01</td>\n",
              "      <td>174</td>\n",
              "      <td>Everglades National Park</td>\n",
              "      <td>Everglades</td>\n",
              "      <td>Gator Park</td>\n",
              "      <td>Museums, Historical Sites, and Similar Institu...</td>\n",
              "      <td>Nature Parks and Other Similar Institutions</td>\n",
              "      <td>25.760640</td>\n",
              "      <td>-80.581096</td>\n",
              "      <td>NaN</td>\n",
              "      <td>True</td>\n",
              "    </tr>\n",
              "    <tr>\n",
              "      <th>1</th>\n",
              "      <td>sg:1317ddfafdcf4cd5bea26540310e2e1c</td>\n",
              "      <td>{\"\"\"\"\"\"\"\"191099505002\"\"\"\"\"\"\"\":7,\"\"\"\"\"\"\"\"160879...</td>\n",
              "      <td>2020-03-01</td>\n",
              "      <td>2020-04-01</td>\n",
              "      <td>609</td>\n",
              "      <td>Arches National Park</td>\n",
              "      <td>Arches</td>\n",
              "      <td>Delicate Arch</td>\n",
              "      <td>Museums, Historical Sites, and Similar Institu...</td>\n",
              "      <td>Historical Sites</td>\n",
              "      <td>38.616600</td>\n",
              "      <td>-109.619851</td>\n",
              "      <td>NaN</td>\n",
              "      <td>True</td>\n",
              "    </tr>\n",
              "    <tr>\n",
              "      <th>2</th>\n",
              "      <td>sg:1ad959f392d94b2b98de6c3cb1daee6c</td>\n",
              "      <td>{\"\"\"\"\"\"\"\"050510108001\"\"\"\"\"\"\"\":85,\"\"\"\"\"\"\"\"05051...</td>\n",
              "      <td>2020-03-01</td>\n",
              "      <td>2020-04-01</td>\n",
              "      <td>3211</td>\n",
              "      <td>Hot Springs National Park</td>\n",
              "      <td>Hot Springs</td>\n",
              "      <td>Hot Springs National Park</td>\n",
              "      <td>Museums, Historical Sites, and Similar Institu...</td>\n",
              "      <td>Nature Parks and Other Similar Institutions</td>\n",
              "      <td>34.514493</td>\n",
              "      <td>-93.098315</td>\n",
              "      <td>NaN</td>\n",
              "      <td>True</td>\n",
              "    </tr>\n",
              "    <tr>\n",
              "      <th>3</th>\n",
              "      <td>sg:1b00083e0efa4083afa60d632725d097</td>\n",
              "      <td>{\"\"\"\"\"\"\"\"530090012001\"\"\"\"\"\"\"\":4,\"\"\"\"\"\"\"\"450910...</td>\n",
              "      <td>2020-03-01</td>\n",
              "      <td>2020-04-01</td>\n",
              "      <td>18</td>\n",
              "      <td>Olympic National Park</td>\n",
              "      <td>Olympic</td>\n",
              "      <td>Lake Crescent Lodge</td>\n",
              "      <td>Traveler Accommodation</td>\n",
              "      <td>Hotels (except Casino Hotels) and Motels</td>\n",
              "      <td>48.057189</td>\n",
              "      <td>-123.799969</td>\n",
              "      <td>NaN</td>\n",
              "      <td>True</td>\n",
              "    </tr>\n",
              "    <tr>\n",
              "      <th>4</th>\n",
              "      <td>sg:1ce28a31e37d479b84654e822f98b6eb</td>\n",
              "      <td>{\"\"\"\"\"\"\"\"171978834022\"\"\"\"\"\"\"\":9,\"\"\"\"\"\"\"\"212270...</td>\n",
              "      <td>2020-03-01</td>\n",
              "      <td>2020-04-01</td>\n",
              "      <td>331</td>\n",
              "      <td>Mammoth Cave National Park</td>\n",
              "      <td>Mammoth Cave</td>\n",
              "      <td>Mammoth Cave National Park</td>\n",
              "      <td>Museums, Historical Sites, and Similar Institu...</td>\n",
              "      <td>Nature Parks and Other Similar Institutions</td>\n",
              "      <td>37.186983</td>\n",
              "      <td>-86.101230</td>\n",
              "      <td>NaN</td>\n",
              "      <td>True</td>\n",
              "    </tr>\n",
              "  </tbody>\n",
              "</table>\n",
              "</div>"
            ],
            "text/plain": [
              "                    safegraph_place_id  ... covid_era\n",
              "0  sg:12aaf44341a94b9c9cc3aeea1a6320ef  ...      True\n",
              "1  sg:1317ddfafdcf4cd5bea26540310e2e1c  ...      True\n",
              "2  sg:1ad959f392d94b2b98de6c3cb1daee6c  ...      True\n",
              "3  sg:1b00083e0efa4083afa60d632725d097  ...      True\n",
              "4  sg:1ce28a31e37d479b84654e822f98b6eb  ...      True\n",
              "\n",
              "[5 rows x 14 columns]"
            ]
          },
          "metadata": {
            "tags": []
          },
          "execution_count": 3
        }
      ]
    },
    {
      "cell_type": "markdown",
      "metadata": {
        "id": "YvcwJ5ZkayKT"
      },
      "source": [
        "reset variables to and re-read the file with dropped rows"
      ]
    },
    {
      "cell_type": "code",
      "metadata": {
        "colab": {
          "base_uri": "https://localhost:8080/",
          "height": 981
        },
        "id": "kcf4Wpn1OrDN",
        "outputId": "8a2640c2-e110-4818-b63b-7813e2510531"
      },
      "source": [
        "%reset\n",
        "%matplotlib inline\n",
        "import numpy as np\n",
        "import pandas as pd\n",
        "from pandas import DataFrame\n",
        "import math\n",
        "import numpy\n",
        "from statistics import *\n",
        "from numpy import nan\n",
        "import json\n",
        "data = pd.read_csv('aggragated_count.csv')\n",
        "data"
      ],
      "execution_count": null,
      "outputs": [
        {
          "output_type": "stream",
          "text": [
            "Once deleted, variables cannot be recovered. Proceed (y/[n])? y\n"
          ],
          "name": "stdout"
        },
        {
          "output_type": "execute_result",
          "data": {
            "text/html": [
              "<div>\n",
              "<style scoped>\n",
              "    .dataframe tbody tr th:only-of-type {\n",
              "        vertical-align: middle;\n",
              "    }\n",
              "\n",
              "    .dataframe tbody tr th {\n",
              "        vertical-align: top;\n",
              "    }\n",
              "\n",
              "    .dataframe thead th {\n",
              "        text-align: right;\n",
              "    }\n",
              "</style>\n",
              "<table border=\"1\" class=\"dataframe\">\n",
              "  <thead>\n",
              "    <tr style=\"text-align: right;\">\n",
              "      <th></th>\n",
              "      <th>Unnamed: 0</th>\n",
              "      <th>safegraph_place_id</th>\n",
              "      <th>visitor_daytime_cbgs</th>\n",
              "      <th>date_range_start</th>\n",
              "      <th>date_range_end</th>\n",
              "      <th>raw_visitor_counts</th>\n",
              "      <th>UNIT_NAME</th>\n",
              "      <th>PARKNAME</th>\n",
              "      <th>location_name</th>\n",
              "      <th>top_category</th>\n",
              "      <th>sub_category</th>\n",
              "      <th>latitude</th>\n",
              "      <th>longitude</th>\n",
              "      <th>parent_safegraph_place_id</th>\n",
              "      <th>covid_era</th>\n",
              "    </tr>\n",
              "  </thead>\n",
              "  <tbody>\n",
              "    <tr>\n",
              "      <th>0</th>\n",
              "      <td>0</td>\n",
              "      <td>sg:12aaf44341a94b9c9cc3aeea1a6320ef</td>\n",
              "      <td>{\"\"\"\"\"\"\"\"481130141311\"\"\"\"\"\"\"\":5,\"\"\"\"\"\"\"\"120860...</td>\n",
              "      <td>2020-03-01</td>\n",
              "      <td>2020-04-01</td>\n",
              "      <td>174</td>\n",
              "      <td>Everglades National Park</td>\n",
              "      <td>Everglades</td>\n",
              "      <td>Gator Park</td>\n",
              "      <td>Museums, Historical Sites, and Similar Institu...</td>\n",
              "      <td>Nature Parks and Other Similar Institutions</td>\n",
              "      <td>25.760640</td>\n",
              "      <td>-80.581096</td>\n",
              "      <td>NaN</td>\n",
              "      <td>True</td>\n",
              "    </tr>\n",
              "    <tr>\n",
              "      <th>1</th>\n",
              "      <td>1</td>\n",
              "      <td>sg:1317ddfafdcf4cd5bea26540310e2e1c</td>\n",
              "      <td>{\"\"\"\"\"\"\"\"191099505002\"\"\"\"\"\"\"\":7,\"\"\"\"\"\"\"\"160879...</td>\n",
              "      <td>2020-03-01</td>\n",
              "      <td>2020-04-01</td>\n",
              "      <td>609</td>\n",
              "      <td>Arches National Park</td>\n",
              "      <td>Arches</td>\n",
              "      <td>Delicate Arch</td>\n",
              "      <td>Museums, Historical Sites, and Similar Institu...</td>\n",
              "      <td>Historical Sites</td>\n",
              "      <td>38.616600</td>\n",
              "      <td>-109.619851</td>\n",
              "      <td>NaN</td>\n",
              "      <td>True</td>\n",
              "    </tr>\n",
              "    <tr>\n",
              "      <th>2</th>\n",
              "      <td>2</td>\n",
              "      <td>sg:1ad959f392d94b2b98de6c3cb1daee6c</td>\n",
              "      <td>{\"\"\"\"\"\"\"\"050510108001\"\"\"\"\"\"\"\":85,\"\"\"\"\"\"\"\"05051...</td>\n",
              "      <td>2020-03-01</td>\n",
              "      <td>2020-04-01</td>\n",
              "      <td>3211</td>\n",
              "      <td>Hot Springs National Park</td>\n",
              "      <td>Hot Springs</td>\n",
              "      <td>Hot Springs National Park</td>\n",
              "      <td>Museums, Historical Sites, and Similar Institu...</td>\n",
              "      <td>Nature Parks and Other Similar Institutions</td>\n",
              "      <td>34.514493</td>\n",
              "      <td>-93.098315</td>\n",
              "      <td>NaN</td>\n",
              "      <td>True</td>\n",
              "    </tr>\n",
              "    <tr>\n",
              "      <th>3</th>\n",
              "      <td>3</td>\n",
              "      <td>sg:1b00083e0efa4083afa60d632725d097</td>\n",
              "      <td>{\"\"\"\"\"\"\"\"530090012001\"\"\"\"\"\"\"\":4,\"\"\"\"\"\"\"\"450910...</td>\n",
              "      <td>2020-03-01</td>\n",
              "      <td>2020-04-01</td>\n",
              "      <td>18</td>\n",
              "      <td>Olympic National Park</td>\n",
              "      <td>Olympic</td>\n",
              "      <td>Lake Crescent Lodge</td>\n",
              "      <td>Traveler Accommodation</td>\n",
              "      <td>Hotels (except Casino Hotels) and Motels</td>\n",
              "      <td>48.057189</td>\n",
              "      <td>-123.799969</td>\n",
              "      <td>NaN</td>\n",
              "      <td>True</td>\n",
              "    </tr>\n",
              "    <tr>\n",
              "      <th>4</th>\n",
              "      <td>4</td>\n",
              "      <td>sg:1ce28a31e37d479b84654e822f98b6eb</td>\n",
              "      <td>{\"\"\"\"\"\"\"\"171978834022\"\"\"\"\"\"\"\":9,\"\"\"\"\"\"\"\"212270...</td>\n",
              "      <td>2020-03-01</td>\n",
              "      <td>2020-04-01</td>\n",
              "      <td>331</td>\n",
              "      <td>Mammoth Cave National Park</td>\n",
              "      <td>Mammoth Cave</td>\n",
              "      <td>Mammoth Cave National Park</td>\n",
              "      <td>Museums, Historical Sites, and Similar Institu...</td>\n",
              "      <td>Nature Parks and Other Similar Institutions</td>\n",
              "      <td>37.186983</td>\n",
              "      <td>-86.101230</td>\n",
              "      <td>NaN</td>\n",
              "      <td>True</td>\n",
              "    </tr>\n",
              "    <tr>\n",
              "      <th>...</th>\n",
              "      <td>...</td>\n",
              "      <td>...</td>\n",
              "      <td>...</td>\n",
              "      <td>...</td>\n",
              "      <td>...</td>\n",
              "      <td>...</td>\n",
              "      <td>...</td>\n",
              "      <td>...</td>\n",
              "      <td>...</td>\n",
              "      <td>...</td>\n",
              "      <td>...</td>\n",
              "      <td>...</td>\n",
              "      <td>...</td>\n",
              "      <td>...</td>\n",
              "      <td>...</td>\n",
              "    </tr>\n",
              "    <tr>\n",
              "      <th>1669</th>\n",
              "      <td>1669</td>\n",
              "      <td>sg:a8c7746858474c499a242705615235b2</td>\n",
              "      <td>{\"\"\"\"530330035001\"\"\"\":4,\"\"\"\"530330323133\"\"\"\":4...</td>\n",
              "      <td>2019-09-01</td>\n",
              "      <td>2019-10-01</td>\n",
              "      <td>17</td>\n",
              "      <td>North Cascades National Park</td>\n",
              "      <td>North Cascades National Park</td>\n",
              "      <td>North Cascades National Park</td>\n",
              "      <td>Museums, Historical Sites, and Similar Institu...</td>\n",
              "      <td>Nature Parks and Other Similar Institutions</td>\n",
              "      <td>48.538430</td>\n",
              "      <td>-121.448100</td>\n",
              "      <td>NaN</td>\n",
              "      <td>False</td>\n",
              "    </tr>\n",
              "    <tr>\n",
              "      <th>1670</th>\n",
              "      <td>1670</td>\n",
              "      <td>sg:a8c7746858474c499a242705615235b2</td>\n",
              "      <td>{\"\"\"\"530330303064\"\"\"\":4}</td>\n",
              "      <td>2019-10-01</td>\n",
              "      <td>2019-11-01</td>\n",
              "      <td>11</td>\n",
              "      <td>North Cascades National Park</td>\n",
              "      <td>North Cascades National Park</td>\n",
              "      <td>North Cascades National Park</td>\n",
              "      <td>Museums, Historical Sites, and Similar Institu...</td>\n",
              "      <td>Nature Parks and Other Similar Institutions</td>\n",
              "      <td>48.538430</td>\n",
              "      <td>-121.448100</td>\n",
              "      <td>NaN</td>\n",
              "      <td>False</td>\n",
              "    </tr>\n",
              "    <tr>\n",
              "      <th>1671</th>\n",
              "      <td>1671</td>\n",
              "      <td>sg:a8c7746858474c499a242705615235b2</td>\n",
              "      <td>{\"\"\"\"530579511001\"\"\"\":4}</td>\n",
              "      <td>2019-11-01</td>\n",
              "      <td>2019-12-01</td>\n",
              "      <td>12</td>\n",
              "      <td>North Cascades National Park</td>\n",
              "      <td>North Cascades National Park</td>\n",
              "      <td>North Cascades National Park</td>\n",
              "      <td>Museums, Historical Sites, and Similar Institu...</td>\n",
              "      <td>Nature Parks and Other Similar Institutions</td>\n",
              "      <td>48.538430</td>\n",
              "      <td>-121.448100</td>\n",
              "      <td>NaN</td>\n",
              "      <td>False</td>\n",
              "    </tr>\n",
              "    <tr>\n",
              "      <th>1672</th>\n",
              "      <td>1672</td>\n",
              "      <td>sg:a8c7746858474c499a242705615235b2</td>\n",
              "      <td>{\"\"\"\"530579511001\"\"\"\":4}</td>\n",
              "      <td>2019-12-01</td>\n",
              "      <td>2020-01-01</td>\n",
              "      <td>4</td>\n",
              "      <td>North Cascades National Park</td>\n",
              "      <td>North Cascades National Park</td>\n",
              "      <td>North Cascades National Park</td>\n",
              "      <td>Museums, Historical Sites, and Similar Institu...</td>\n",
              "      <td>Nature Parks and Other Similar Institutions</td>\n",
              "      <td>48.538430</td>\n",
              "      <td>-121.448100</td>\n",
              "      <td>NaN</td>\n",
              "      <td>False</td>\n",
              "    </tr>\n",
              "    <tr>\n",
              "      <th>1673</th>\n",
              "      <td>1673</td>\n",
              "      <td>sg:a8c7746858474c499a242705615235b2</td>\n",
              "      <td>{\"\"\"\"530579511001\"\"\"\":4}</td>\n",
              "      <td>2020-02-01</td>\n",
              "      <td>2020-03-01</td>\n",
              "      <td>3</td>\n",
              "      <td>North Cascades National Park</td>\n",
              "      <td>North Cascades National Park</td>\n",
              "      <td>North Cascades National Park</td>\n",
              "      <td>Museums, Historical Sites, and Similar Institu...</td>\n",
              "      <td>Nature Parks and Other Similar Institutions</td>\n",
              "      <td>48.538430</td>\n",
              "      <td>-121.448100</td>\n",
              "      <td>NaN</td>\n",
              "      <td>False</td>\n",
              "    </tr>\n",
              "  </tbody>\n",
              "</table>\n",
              "<p>1674 rows × 15 columns</p>\n",
              "</div>"
            ],
            "text/plain": [
              "      Unnamed: 0  ... covid_era\n",
              "0              0  ...      True\n",
              "1              1  ...      True\n",
              "2              2  ...      True\n",
              "3              3  ...      True\n",
              "4              4  ...      True\n",
              "...          ...  ...       ...\n",
              "1669        1669  ...     False\n",
              "1670        1670  ...     False\n",
              "1671        1671  ...     False\n",
              "1672        1672  ...     False\n",
              "1673        1673  ...     False\n",
              "\n",
              "[1674 rows x 15 columns]"
            ]
          },
          "metadata": {
            "tags": []
          },
          "execution_count": 4
        }
      ]
    },
    {
      "cell_type": "markdown",
      "metadata": {
        "id": "OcxW16YXa30P"
      },
      "source": [
        "re-format \"visitor_daytime_cbgs\" into a dictionary. "
      ]
    },
    {
      "cell_type": "code",
      "metadata": {
        "id": "Bz-TDVEg2uiD"
      },
      "source": [
        "safegraph_place_id=data[\"safegraph_place_id\"]"
      ],
      "execution_count": null,
      "outputs": []
    },
    {
      "cell_type": "code",
      "metadata": {
        "id": "V0uq2ZtyT792"
      },
      "source": [
        "d=data[\"visitor_daytime_cbgs\"]\n",
        "def removing_oldStr(d):\n",
        "  oldStrs=[\"\\\"\\\"\\\"\\\"\\\"\\\"\\\"\\\"\",\"\\\"\\\"\\\"\\\"\\\"\\\"\\\"\",\"\\\"\\\"\\\"\\\"\\\"\\\"\",\"\\\"\\\"\\\"\\\"\\\"\",\"\\\"\\\"\\\"\\\"\",\"\\\"\\\"\\\"\",\"\\\"\\\"\"]\n",
        "  newStr=\"\\\"\"\n",
        "  d_new=[]\n",
        "  for i in range(0,len(d)):\n",
        "    x=d[i]\n",
        "    if oldStrs[0] in x:\n",
        "      x=x.replace(oldStrs[0], newStr)\n",
        "      d_new.append(x)\n",
        "    elif oldStrs[1] in x:\n",
        "      x=x.replace(oldStrs[1], newStr)\n",
        "      d_new.append(x)\n",
        "    elif oldStrs[2] in x:\n",
        "      x=x.replace(oldStrs[2], newStr)\n",
        "      d_new.append(x)\n",
        "    elif oldStrs[3] in x:\n",
        "      x=x.replace(oldStrs[3], newStr)\n",
        "      d_new.append(x)\n",
        "    elif oldStrs[4] in x:\n",
        "      x=x.replace(oldStrs[4], newStr)\n",
        "      d_new.append(x)\n",
        "    elif oldStrs[5] in x:\n",
        "      x=x.replace(oldStrs[5], newStr)\n",
        "      d_new.append(x)\n",
        "    else:\n",
        "      d_new.append(x)\n",
        "  return d_new\n",
        "d_new=removing_oldStr(list(d))\n"
      ],
      "execution_count": null,
      "outputs": []
    },
    {
      "cell_type": "code",
      "metadata": {
        "id": "Ny46C7iEBi56"
      },
      "source": [
        "data[\"visitor_daytime_cbgs\"]=d_new"
      ],
      "execution_count": null,
      "outputs": []
    },
    {
      "cell_type": "code",
      "metadata": {
        "id": "SsMJlS6_zasL"
      },
      "source": [
        "def string_to_dict(dict_string):\n",
        "    # Convert to proper json format\n",
        "    dict_string = dict_string.replace(\"'\", '\"')\n",
        "    return json.loads(dict_string)\n",
        "\n",
        "data.visitor_daytime_cbgs = data.visitor_daytime_cbgs.apply(string_to_dict)\n",
        "d=data[\"visitor_daytime_cbgs\"]"
      ],
      "execution_count": null,
      "outputs": []
    },
    {
      "cell_type": "markdown",
      "metadata": {
        "id": "haDP5g_1bFru"
      },
      "source": [
        "Extract records from the dictionary and place them structurally with each row containing each unique visitation record containing number of visitations to each park from each unique census block group. "
      ]
    },
    {
      "cell_type": "code",
      "metadata": {
        "id": "N3GD_l3Cvfy7"
      },
      "source": [
        "ordered_list_of_id=[]\n",
        "for i in range(0,(len(d))):\n",
        "  for n in range(0, (len(d[i]))):\n",
        "    ordered_list_of_id.append(safegraph_place_id[i])"
      ],
      "execution_count": null,
      "outputs": []
    },
    {
      "cell_type": "code",
      "metadata": {
        "colab": {
          "base_uri": "https://localhost:8080/"
        },
        "id": "-JajwNUtcRl0",
        "outputId": "731c1938-46dd-4a1b-9724-b307cd9924c4"
      },
      "source": [
        "census_block_list=[]\n",
        "for i in range(0,(len(d))):\n",
        "  #x=d[i]\n",
        "  #safe_graph_id_for_this=safegraph_place_id[i]\n",
        "  for n in range(0, (len(d[i]))):\n",
        "    #whole_dict_element=list((d[i]).items())[n]\n",
        "    key_element=list(d[i])[n]\n",
        "    #new_key=key_element+safegraph_place_id[i]\n",
        "    #(d[i])[new_key] = (d[i]).pop(key_element)\n",
        "    # print(key_element)\n",
        "    census_block_list.append(key_element)\n",
        "\n",
        "census_block_list[1:10]"
      ],
      "execution_count": null,
      "outputs": [
        {
          "output_type": "execute_result",
          "data": {
            "text/plain": [
              "['120860041051',\n",
              " '240317008173',\n",
              " '060855043162',\n",
              " '120860130002',\n",
              " '060371081032',\n",
              " '130510108032',\n",
              " '240054087021',\n",
              " '170978646021',\n",
              " '120860005012']"
            ]
          },
          "metadata": {
            "tags": []
          },
          "execution_count": 10
        }
      ]
    },
    {
      "cell_type": "code",
      "metadata": {
        "id": "njdNiJAPTJaR"
      },
      "source": [
        "census_block_values=[]\n",
        "for i in range(0,(len(d))):\n",
        "  #x=d[i]\n",
        "  #safe_graph_id_for_this=safegraph_place_id[i]\n",
        "  for n in range(0, (len(d[i]))):\n",
        "    #whole_dict_element=list((d[i]).items())[n]\n",
        "    key_element=list(d[i])[n]\n",
        "    #new_key=key_element+safegraph_place_id[i]\n",
        "    #(d[i])[new_key] = (d[i]).pop(key_element)\n",
        "    #print(key_element)\n",
        "    val=(d[i]).get(key_element)\n",
        "    census_block_values.append(val)\n"
      ],
      "execution_count": null,
      "outputs": []
    },
    {
      "cell_type": "code",
      "metadata": {
        "id": "NAg0QrNTtsIu"
      },
      "source": [
        "def theforloop(d, wanted_list):\n",
        "  list1=[]\n",
        "  for i in range(0, (len(d))):\n",
        "    for n in range(0, (len(d[i]))):\n",
        "      val=wanted_list[i]\n",
        "      list1.append(val)\n",
        "  return (list1)"
      ],
      "execution_count": null,
      "outputs": []
    },
    {
      "cell_type": "code",
      "metadata": {
        "id": "PrcHWsN3vfQA"
      },
      "source": [
        "start=data[\"date_range_start\"]\n",
        "end=data[\"date_range_end\"]\n",
        "starting_dates_list=theforloop(d,start)"
      ],
      "execution_count": null,
      "outputs": []
    },
    {
      "cell_type": "code",
      "metadata": {
        "id": "lXIi3gR9vgv_"
      },
      "source": [
        "ending_dates_list=theforloop(d,end)"
      ],
      "execution_count": null,
      "outputs": []
    },
    {
      "cell_type": "code",
      "metadata": {
        "colab": {
          "base_uri": "https://localhost:8080/"
        },
        "id": "0Q49n46GzymZ",
        "outputId": "b07f7594-7ce6-48a5-8662-6d3725e64de7"
      },
      "source": [
        "#len(ending_dates_list)==len(starting_dates_list)\n",
        "len(ending_dates_list)==len(census_block_values)"
      ],
      "execution_count": null,
      "outputs": [
        {
          "output_type": "execute_result",
          "data": {
            "text/plain": [
              "True"
            ]
          },
          "metadata": {
            "tags": []
          },
          "execution_count": 15
        }
      ]
    },
    {
      "cell_type": "markdown",
      "metadata": {
        "id": "bHNQ2R3gbubG"
      },
      "source": [
        "Include and subset only relevant data into our dataset"
      ]
    },
    {
      "cell_type": "code",
      "metadata": {
        "id": "czUD0zfQ0Jx6"
      },
      "source": [
        "def to_include_relevant_data(d, wanted_list):\n",
        "  list2=[]\n",
        "  for i in range(0,(len(d))):\n",
        "    for n in range(0, (len(d[i]))):\n",
        "      val=wanted_list[i]\n",
        "      list2.append(val)\n",
        "  return (list2)\n",
        "\n",
        "\n",
        "  "
      ],
      "execution_count": null,
      "outputs": []
    },
    {
      "cell_type": "code",
      "metadata": {
        "id": "JrcHiz5s0lwy"
      },
      "source": [
        "start_dates_list=to_include_relevant_data(d,data[\"date_range_start\"])\n",
        "ending_dates_list=to_include_relevant_data(d,data[\"date_range_end\"])\n",
        "location_list=to_include_relevant_data(d,data[\"location_name\"])\n",
        "PARK_list=to_include_relevant_data(d,data[\"PARKNAME\"])\n",
        "latitude_list=to_include_relevant_data(d,data[\"latitude\"])\n",
        "longitude_list=to_include_relevant_data(d,data['longitude'])\n",
        "\n"
      ],
      "execution_count": null,
      "outputs": []
    },
    {
      "cell_type": "code",
      "metadata": {
        "colab": {
          "base_uri": "https://localhost:8080/"
        },
        "id": "Qq89XF7M2mSn",
        "outputId": "2f52113f-3f32-4865-963c-695c40299ae7"
      },
      "source": [
        "len(longitude_list)==len(PARK_list)"
      ],
      "execution_count": null,
      "outputs": [
        {
          "output_type": "execute_result",
          "data": {
            "text/plain": [
              "True"
            ]
          },
          "metadata": {
            "tags": []
          },
          "execution_count": 19
        }
      ]
    },
    {
      "cell_type": "code",
      "metadata": {
        "colab": {
          "base_uri": "https://localhost:8080/",
          "height": 703
        },
        "id": "vfWKDgmC-fGd",
        "outputId": "c53c0d79-b360-48bf-9096-124ec675eb32"
      },
      "source": [
        "our_data=pd.DataFrame()\n",
        "our_data[\"vistor_census_block\"]=census_block_list\n",
        "our_data[\"visitor_count\"]=census_block_values\n",
        "our_data[\"safegraph_place_id\"]=ordered_list_of_id\n",
        "our_data[\"date_range_start\"]=starting_dates_list\n",
        "our_data[\"date_range_end\"]=ending_dates_list\n",
        "our_data[\"location_name\"]=location_list\n",
        "our_data[\"PARKNAME\"]=PARK_list\n",
        "our_data[\"park_latitude\"]=latitude_list\n",
        "our_data[\"park_longitude\"]=longitude_list\n",
        "our_data"
      ],
      "execution_count": null,
      "outputs": [
        {
          "output_type": "execute_result",
          "data": {
            "text/html": [
              "<div>\n",
              "<style scoped>\n",
              "    .dataframe tbody tr th:only-of-type {\n",
              "        vertical-align: middle;\n",
              "    }\n",
              "\n",
              "    .dataframe tbody tr th {\n",
              "        vertical-align: top;\n",
              "    }\n",
              "\n",
              "    .dataframe thead th {\n",
              "        text-align: right;\n",
              "    }\n",
              "</style>\n",
              "<table border=\"1\" class=\"dataframe\">\n",
              "  <thead>\n",
              "    <tr style=\"text-align: right;\">\n",
              "      <th></th>\n",
              "      <th>vistor_census_block</th>\n",
              "      <th>visitor_count</th>\n",
              "      <th>safegraph_place_id</th>\n",
              "      <th>date_range_start</th>\n",
              "      <th>date_range_end</th>\n",
              "      <th>location_name</th>\n",
              "      <th>PARKNAME</th>\n",
              "      <th>park_latitude</th>\n",
              "      <th>park_longitude</th>\n",
              "    </tr>\n",
              "  </thead>\n",
              "  <tbody>\n",
              "    <tr>\n",
              "      <th>0</th>\n",
              "      <td>481130141311</td>\n",
              "      <td>5</td>\n",
              "      <td>sg:12aaf44341a94b9c9cc3aeea1a6320ef</td>\n",
              "      <td>2020-03-01</td>\n",
              "      <td>2020-04-01</td>\n",
              "      <td>Gator Park</td>\n",
              "      <td>Everglades</td>\n",
              "      <td>25.76064</td>\n",
              "      <td>-80.581096</td>\n",
              "    </tr>\n",
              "    <tr>\n",
              "      <th>1</th>\n",
              "      <td>120860041051</td>\n",
              "      <td>5</td>\n",
              "      <td>sg:12aaf44341a94b9c9cc3aeea1a6320ef</td>\n",
              "      <td>2020-03-01</td>\n",
              "      <td>2020-04-01</td>\n",
              "      <td>Gator Park</td>\n",
              "      <td>Everglades</td>\n",
              "      <td>25.76064</td>\n",
              "      <td>-80.581096</td>\n",
              "    </tr>\n",
              "    <tr>\n",
              "      <th>2</th>\n",
              "      <td>240317008173</td>\n",
              "      <td>4</td>\n",
              "      <td>sg:12aaf44341a94b9c9cc3aeea1a6320ef</td>\n",
              "      <td>2020-03-01</td>\n",
              "      <td>2020-04-01</td>\n",
              "      <td>Gator Park</td>\n",
              "      <td>Everglades</td>\n",
              "      <td>25.76064</td>\n",
              "      <td>-80.581096</td>\n",
              "    </tr>\n",
              "    <tr>\n",
              "      <th>3</th>\n",
              "      <td>060855043162</td>\n",
              "      <td>4</td>\n",
              "      <td>sg:12aaf44341a94b9c9cc3aeea1a6320ef</td>\n",
              "      <td>2020-03-01</td>\n",
              "      <td>2020-04-01</td>\n",
              "      <td>Gator Park</td>\n",
              "      <td>Everglades</td>\n",
              "      <td>25.76064</td>\n",
              "      <td>-80.581096</td>\n",
              "    </tr>\n",
              "    <tr>\n",
              "      <th>4</th>\n",
              "      <td>120860130002</td>\n",
              "      <td>4</td>\n",
              "      <td>sg:12aaf44341a94b9c9cc3aeea1a6320ef</td>\n",
              "      <td>2020-03-01</td>\n",
              "      <td>2020-04-01</td>\n",
              "      <td>Gator Park</td>\n",
              "      <td>Everglades</td>\n",
              "      <td>25.76064</td>\n",
              "      <td>-80.581096</td>\n",
              "    </tr>\n",
              "    <tr>\n",
              "      <th>...</th>\n",
              "      <td>...</td>\n",
              "      <td>...</td>\n",
              "      <td>...</td>\n",
              "      <td>...</td>\n",
              "      <td>...</td>\n",
              "      <td>...</td>\n",
              "      <td>...</td>\n",
              "      <td>...</td>\n",
              "      <td>...</td>\n",
              "    </tr>\n",
              "    <tr>\n",
              "      <th>222874</th>\n",
              "      <td>530579511001</td>\n",
              "      <td>4</td>\n",
              "      <td>sg:a8c7746858474c499a242705615235b2</td>\n",
              "      <td>2019-09-01</td>\n",
              "      <td>2019-10-01</td>\n",
              "      <td>North Cascades National Park</td>\n",
              "      <td>North Cascades National Park</td>\n",
              "      <td>48.53843</td>\n",
              "      <td>-121.448100</td>\n",
              "    </tr>\n",
              "    <tr>\n",
              "      <th>222875</th>\n",
              "      <td>530330303064</td>\n",
              "      <td>4</td>\n",
              "      <td>sg:a8c7746858474c499a242705615235b2</td>\n",
              "      <td>2019-10-01</td>\n",
              "      <td>2019-11-01</td>\n",
              "      <td>North Cascades National Park</td>\n",
              "      <td>North Cascades National Park</td>\n",
              "      <td>48.53843</td>\n",
              "      <td>-121.448100</td>\n",
              "    </tr>\n",
              "    <tr>\n",
              "      <th>222876</th>\n",
              "      <td>530579511001</td>\n",
              "      <td>4</td>\n",
              "      <td>sg:a8c7746858474c499a242705615235b2</td>\n",
              "      <td>2019-11-01</td>\n",
              "      <td>2019-12-01</td>\n",
              "      <td>North Cascades National Park</td>\n",
              "      <td>North Cascades National Park</td>\n",
              "      <td>48.53843</td>\n",
              "      <td>-121.448100</td>\n",
              "    </tr>\n",
              "    <tr>\n",
              "      <th>222877</th>\n",
              "      <td>530579511001</td>\n",
              "      <td>4</td>\n",
              "      <td>sg:a8c7746858474c499a242705615235b2</td>\n",
              "      <td>2019-12-01</td>\n",
              "      <td>2020-01-01</td>\n",
              "      <td>North Cascades National Park</td>\n",
              "      <td>North Cascades National Park</td>\n",
              "      <td>48.53843</td>\n",
              "      <td>-121.448100</td>\n",
              "    </tr>\n",
              "    <tr>\n",
              "      <th>222878</th>\n",
              "      <td>530579511001</td>\n",
              "      <td>4</td>\n",
              "      <td>sg:a8c7746858474c499a242705615235b2</td>\n",
              "      <td>2020-02-01</td>\n",
              "      <td>2020-03-01</td>\n",
              "      <td>North Cascades National Park</td>\n",
              "      <td>North Cascades National Park</td>\n",
              "      <td>48.53843</td>\n",
              "      <td>-121.448100</td>\n",
              "    </tr>\n",
              "  </tbody>\n",
              "</table>\n",
              "<p>222879 rows × 9 columns</p>\n",
              "</div>"
            ],
            "text/plain": [
              "       vistor_census_block  visitor_count  ... park_latitude park_longitude\n",
              "0             481130141311              5  ...      25.76064     -80.581096\n",
              "1             120860041051              5  ...      25.76064     -80.581096\n",
              "2             240317008173              4  ...      25.76064     -80.581096\n",
              "3             060855043162              4  ...      25.76064     -80.581096\n",
              "4             120860130002              4  ...      25.76064     -80.581096\n",
              "...                    ...            ...  ...           ...            ...\n",
              "222874        530579511001              4  ...      48.53843    -121.448100\n",
              "222875        530330303064              4  ...      48.53843    -121.448100\n",
              "222876        530579511001              4  ...      48.53843    -121.448100\n",
              "222877        530579511001              4  ...      48.53843    -121.448100\n",
              "222878        530579511001              4  ...      48.53843    -121.448100\n",
              "\n",
              "[222879 rows x 9 columns]"
            ]
          },
          "metadata": {
            "tags": []
          },
          "execution_count": 20
        }
      ]
    },
    {
      "cell_type": "code",
      "metadata": {
        "id": "2riZ-AmE-9Ra"
      },
      "source": [
        "our_data.to_csv('national_park_visitation_analysis_w_mobile_phone_data/volume/data/interim/filtered_pois/structuring_park_visitation_records/visitation_records.csv') "
      ],
      "execution_count": null,
      "outputs": []
    }
  ]
}
