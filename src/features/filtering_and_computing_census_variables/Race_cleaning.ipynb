{
  "nbformat": 4,
  "nbformat_minor": 0,
  "metadata": {
    "colab": {
      "name": "Race_cleaning.ipynb",
      "provenance": [],
      "collapsed_sections": []
    },
    "kernelspec": {
      "name": "python3",
      "display_name": "Python 3"
    }
  },
  "cells": [
    {
      "cell_type": "markdown",
      "metadata": {
        "id": "1NvUKtetxtbC"
      },
      "source": [
        "\n",
        "Import neccessary pacakges\n",
        "\n"
      ]
    },
    {
      "cell_type": "code",
      "metadata": {
        "id": "TYbYALyYtjnu"
      },
      "source": [
        "%matplotlib inline\n",
        "import numpy as np\n",
        "import pandas as pd\n",
        "from pandas import DataFrame\n",
        "import math\n",
        "import numpy\n",
        "from statistics import *\n",
        "from numpy import nan"
      ],
      "execution_count": 2,
      "outputs": []
    },
    {
      "cell_type": "markdown",
      "metadata": {
        "id": "SiB61bzYxykW"
      },
      "source": [
        "Read the race data"
      ]
    },
    {
      "cell_type": "code",
      "metadata": {
        "colab": {
          "base_uri": "https://localhost:8080/",
          "height": 295
        },
        "id": "wjaO9Qu8z_8-",
        "outputId": "623fda5a-2ac9-4083-a8c6-dc207d56d388"
      },
      "source": [
        "# Make suitable changes here. My .csv file is in :  My Drive/Colab Notebooks\n",
        "from google.colab import drive\n",
        "drive.mount(\"/content/drive/\")\n",
        "%cd '/content/drive/My Drive/RTPM496/National Park Research/Income_and_race'\n",
        "!pwd #Prints the present working directory\n",
        "racedata = pd.read_csv('race.csv')\n",
        "racedata.head()"
      ],
      "execution_count": 3,
      "outputs": [
        {
          "output_type": "stream",
          "text": [
            "Mounted at /content/drive/\n",
            "/content/drive/My Drive/RTPM496/National Park Research/Income_and_race\n",
            "/content/drive/My Drive/RTPM496/National Park Research/Income_and_race\n"
          ],
          "name": "stdout"
        },
        {
          "output_type": "execute_result",
          "data": {
            "text/html": [
              "<div>\n",
              "<style scoped>\n",
              "    .dataframe tbody tr th:only-of-type {\n",
              "        vertical-align: middle;\n",
              "    }\n",
              "\n",
              "    .dataframe tbody tr th {\n",
              "        vertical-align: top;\n",
              "    }\n",
              "\n",
              "    .dataframe thead th {\n",
              "        text-align: right;\n",
              "    }\n",
              "</style>\n",
              "<table border=\"1\" class=\"dataframe\">\n",
              "  <thead>\n",
              "    <tr style=\"text-align: right;\">\n",
              "      <th></th>\n",
              "      <th>Geo_FIPS</th>\n",
              "      <th>total.population</th>\n",
              "      <th>non-hispanic</th>\n",
              "      <th>race.white.alone.estimate</th>\n",
              "      <th>african.american.alone.estimate</th>\n",
              "      <th>american.indian.alaskan.native.estimate</th>\n",
              "      <th>asian.estimate</th>\n",
              "      <th>native.hawaiian.other.islander.estimate</th>\n",
              "      <th>other.race.alone</th>\n",
              "      <th>two.or.more.estimate</th>\n",
              "      <th>hispanic</th>\n",
              "    </tr>\n",
              "  </thead>\n",
              "  <tbody>\n",
              "    <tr>\n",
              "      <th>0</th>\n",
              "      <td>10010201001</td>\n",
              "      <td>730</td>\n",
              "      <td>723</td>\n",
              "      <td>606</td>\n",
              "      <td>60</td>\n",
              "      <td>0</td>\n",
              "      <td>0</td>\n",
              "      <td>0</td>\n",
              "      <td>0</td>\n",
              "      <td>57</td>\n",
              "      <td>7</td>\n",
              "    </tr>\n",
              "    <tr>\n",
              "      <th>1</th>\n",
              "      <td>10010201002</td>\n",
              "      <td>1263</td>\n",
              "      <td>1244</td>\n",
              "      <td>1053</td>\n",
              "      <td>92</td>\n",
              "      <td>0</td>\n",
              "      <td>2</td>\n",
              "      <td>0</td>\n",
              "      <td>0</td>\n",
              "      <td>97</td>\n",
              "      <td>19</td>\n",
              "    </tr>\n",
              "    <tr>\n",
              "      <th>2</th>\n",
              "      <td>10010202001</td>\n",
              "      <td>835</td>\n",
              "      <td>805</td>\n",
              "      <td>267</td>\n",
              "      <td>507</td>\n",
              "      <td>0</td>\n",
              "      <td>0</td>\n",
              "      <td>0</td>\n",
              "      <td>0</td>\n",
              "      <td>31</td>\n",
              "      <td>30</td>\n",
              "    </tr>\n",
              "    <tr>\n",
              "      <th>3</th>\n",
              "      <td>10010202002</td>\n",
              "      <td>1124</td>\n",
              "      <td>1124</td>\n",
              "      <td>483</td>\n",
              "      <td>610</td>\n",
              "      <td>0</td>\n",
              "      <td>0</td>\n",
              "      <td>0</td>\n",
              "      <td>6</td>\n",
              "      <td>25</td>\n",
              "      <td>0</td>\n",
              "    </tr>\n",
              "    <tr>\n",
              "      <th>4</th>\n",
              "      <td>10010203001</td>\n",
              "      <td>2774</td>\n",
              "      <td>2541</td>\n",
              "      <td>1866</td>\n",
              "      <td>557</td>\n",
              "      <td>0</td>\n",
              "      <td>32</td>\n",
              "      <td>5</td>\n",
              "      <td>0</td>\n",
              "      <td>81</td>\n",
              "      <td>233</td>\n",
              "    </tr>\n",
              "  </tbody>\n",
              "</table>\n",
              "</div>"
            ],
            "text/plain": [
              "      Geo_FIPS  total.population  ...  two.or.more.estimate  hispanic\n",
              "0  10010201001               730  ...                    57         7\n",
              "1  10010201002              1263  ...                    97        19\n",
              "2  10010202001               835  ...                    31        30\n",
              "3  10010202002              1124  ...                    25         0\n",
              "4  10010203001              2774  ...                    81       233\n",
              "\n",
              "[5 rows x 11 columns]"
            ]
          },
          "metadata": {
            "tags": []
          },
          "execution_count": 3
        }
      ]
    },
    {
      "cell_type": "markdown",
      "metadata": {
        "id": "Zb5O7Aeyx01q"
      },
      "source": [
        "Calculate the percent of minority (percent of non-white)"
      ]
    },
    {
      "cell_type": "code",
      "metadata": {
        "colab": {
          "base_uri": "https://localhost:8080/",
          "height": 243
        },
        "id": "IdQssftu5rca",
        "outputId": "f0c3026f-4523-4436-f69f-be657db37728"
      },
      "source": [
        "minorityportion = 1-(racedata['race.white.alone.estimate'].astype(float)/racedata['total.population'].astype(float))\n",
        "minorityportion = minorityportion.astype(float)\n",
        "racedata[\"minorityportion\"]=minorityportion\n",
        "\n",
        "percent_black = (racedata['african.american.alone.estimate'].astype(float)/racedata['total.population'].astype(float))\n",
        "percent_black = percent_black.astype(float)\n",
        "racedata[\"percent_black\"]=percent_black\n",
        "\n",
        "percent_indian=(racedata['american.indian.alaskan.native.estimate'].astype(float)/racedata['total.population'].astype(float))\n",
        "percent_indian=percent_indian.astype(float)\n",
        "racedata[\"percent_indian\"]=percent_indian\n",
        "\n",
        "percent_asian = (racedata['asian.estimate'].astype(float)/racedata['total.population'].astype(float))\n",
        "percent_asian = percent_asian.astype(float)\n",
        "racedata[\"percent_asian\"]=percent_asian\n",
        "\n",
        "\n",
        "percent_hispanic=(racedata['hispanic'].astype(float)/racedata['total.population'].astype(float))\n",
        "percent_hispanic=percent_hispanic.astype(float)\n",
        "racedata[\"percent_hispanic\"]=percent_hispanic\n",
        "\n",
        "racedata.head()"
      ],
      "execution_count": 4,
      "outputs": [
        {
          "output_type": "execute_result",
          "data": {
            "text/html": [
              "<div>\n",
              "<style scoped>\n",
              "    .dataframe tbody tr th:only-of-type {\n",
              "        vertical-align: middle;\n",
              "    }\n",
              "\n",
              "    .dataframe tbody tr th {\n",
              "        vertical-align: top;\n",
              "    }\n",
              "\n",
              "    .dataframe thead th {\n",
              "        text-align: right;\n",
              "    }\n",
              "</style>\n",
              "<table border=\"1\" class=\"dataframe\">\n",
              "  <thead>\n",
              "    <tr style=\"text-align: right;\">\n",
              "      <th></th>\n",
              "      <th>Geo_FIPS</th>\n",
              "      <th>total.population</th>\n",
              "      <th>non-hispanic</th>\n",
              "      <th>race.white.alone.estimate</th>\n",
              "      <th>african.american.alone.estimate</th>\n",
              "      <th>american.indian.alaskan.native.estimate</th>\n",
              "      <th>asian.estimate</th>\n",
              "      <th>native.hawaiian.other.islander.estimate</th>\n",
              "      <th>other.race.alone</th>\n",
              "      <th>two.or.more.estimate</th>\n",
              "      <th>hispanic</th>\n",
              "      <th>minorityportion</th>\n",
              "      <th>percent_black</th>\n",
              "      <th>percent_indian</th>\n",
              "      <th>percent_asian</th>\n",
              "      <th>percent_hispanic</th>\n",
              "    </tr>\n",
              "  </thead>\n",
              "  <tbody>\n",
              "    <tr>\n",
              "      <th>0</th>\n",
              "      <td>10010201001</td>\n",
              "      <td>730</td>\n",
              "      <td>723</td>\n",
              "      <td>606</td>\n",
              "      <td>60</td>\n",
              "      <td>0</td>\n",
              "      <td>0</td>\n",
              "      <td>0</td>\n",
              "      <td>0</td>\n",
              "      <td>57</td>\n",
              "      <td>7</td>\n",
              "      <td>0.169863</td>\n",
              "      <td>0.082192</td>\n",
              "      <td>0.0</td>\n",
              "      <td>0.000000</td>\n",
              "      <td>0.009589</td>\n",
              "    </tr>\n",
              "    <tr>\n",
              "      <th>1</th>\n",
              "      <td>10010201002</td>\n",
              "      <td>1263</td>\n",
              "      <td>1244</td>\n",
              "      <td>1053</td>\n",
              "      <td>92</td>\n",
              "      <td>0</td>\n",
              "      <td>2</td>\n",
              "      <td>0</td>\n",
              "      <td>0</td>\n",
              "      <td>97</td>\n",
              "      <td>19</td>\n",
              "      <td>0.166271</td>\n",
              "      <td>0.072842</td>\n",
              "      <td>0.0</td>\n",
              "      <td>0.001584</td>\n",
              "      <td>0.015044</td>\n",
              "    </tr>\n",
              "    <tr>\n",
              "      <th>2</th>\n",
              "      <td>10010202001</td>\n",
              "      <td>835</td>\n",
              "      <td>805</td>\n",
              "      <td>267</td>\n",
              "      <td>507</td>\n",
              "      <td>0</td>\n",
              "      <td>0</td>\n",
              "      <td>0</td>\n",
              "      <td>0</td>\n",
              "      <td>31</td>\n",
              "      <td>30</td>\n",
              "      <td>0.680240</td>\n",
              "      <td>0.607186</td>\n",
              "      <td>0.0</td>\n",
              "      <td>0.000000</td>\n",
              "      <td>0.035928</td>\n",
              "    </tr>\n",
              "    <tr>\n",
              "      <th>3</th>\n",
              "      <td>10010202002</td>\n",
              "      <td>1124</td>\n",
              "      <td>1124</td>\n",
              "      <td>483</td>\n",
              "      <td>610</td>\n",
              "      <td>0</td>\n",
              "      <td>0</td>\n",
              "      <td>0</td>\n",
              "      <td>6</td>\n",
              "      <td>25</td>\n",
              "      <td>0</td>\n",
              "      <td>0.570285</td>\n",
              "      <td>0.542705</td>\n",
              "      <td>0.0</td>\n",
              "      <td>0.000000</td>\n",
              "      <td>0.000000</td>\n",
              "    </tr>\n",
              "    <tr>\n",
              "      <th>4</th>\n",
              "      <td>10010203001</td>\n",
              "      <td>2774</td>\n",
              "      <td>2541</td>\n",
              "      <td>1866</td>\n",
              "      <td>557</td>\n",
              "      <td>0</td>\n",
              "      <td>32</td>\n",
              "      <td>5</td>\n",
              "      <td>0</td>\n",
              "      <td>81</td>\n",
              "      <td>233</td>\n",
              "      <td>0.327325</td>\n",
              "      <td>0.200793</td>\n",
              "      <td>0.0</td>\n",
              "      <td>0.011536</td>\n",
              "      <td>0.083994</td>\n",
              "    </tr>\n",
              "  </tbody>\n",
              "</table>\n",
              "</div>"
            ],
            "text/plain": [
              "      Geo_FIPS  total.population  ...  percent_asian  percent_hispanic\n",
              "0  10010201001               730  ...       0.000000          0.009589\n",
              "1  10010201002              1263  ...       0.001584          0.015044\n",
              "2  10010202001               835  ...       0.000000          0.035928\n",
              "3  10010202002              1124  ...       0.000000          0.000000\n",
              "4  10010203001              2774  ...       0.011536          0.083994\n",
              "\n",
              "[5 rows x 16 columns]"
            ]
          },
          "metadata": {
            "tags": []
          },
          "execution_count": 4
        }
      ]
    },
    {
      "cell_type": "markdown",
      "metadata": {
        "id": "chTaVZSix4yf"
      },
      "source": [
        "Write the dataset"
      ]
    },
    {
      "cell_type": "code",
      "metadata": {
        "id": "6VQHlVF4Knc6"
      },
      "source": [
        "racedata.to_csv('race.csv')  "
      ],
      "execution_count": 5,
      "outputs": []
    }
  ]
}